{
 "cells": [
  {
   "cell_type": "markdown",
   "metadata": {},
   "source": [
    "### 목록\n",
    "* 준비\n",
    "    * [사용할 라이브러리 불러오기](#lib)\n",
    "    * [엘라스틱서치 환경 설정하기](#es_setting)\n",
    "    * [엘라스틱서치에서 데이터 조회하기](#es_load)\n",
    "    * [조회한 데이터를 테이블 형태로 만들기](#df)\n",
    "* Metric Aggregation\n",
    "    * [Value Count Aggregation](#count)\n",
    "    * [Avg Aggregation](#avg)\n",
    "    * [Sum Aggregation](#sum)\n",
    "    * [Min Aggregation](#min)\n",
    "    * [Max Aggregation](#max)\n",
    "    * [Extended Stats Aggregation (표준편차)](#extended)\n",
    "    * [Cardinality Aggregation](#cardinal)\n",
    "    * [Percentiles Aggregation](#percentiles)\n",
    "    * [Percentile Ranks Aggregation](#percentile ranks)\n",
    "    * [Top Hits Aggregation](#top hits)\n",
    "---"
   ]
  },
  {
   "cell_type": "markdown",
   "metadata": {},
   "source": [
    "### 준비"
   ]
  },
  {
   "cell_type": "markdown",
   "metadata": {},
   "source": [
    "<a name='lib'></a>\n",
    "#### 사용할 라이브러리 불러오기"
   ]
  },
  {
   "cell_type": "code",
   "execution_count": 1,
   "metadata": {},
   "outputs": [],
   "source": [
    "import pandas as pd\n",
    "from elasticsearch import Elasticsearch"
   ]
  },
  {
   "cell_type": "markdown",
   "metadata": {},
   "source": [
    "<a name='es_setting'></a>\n",
    "#### 엘라스틱서치 환경 설정하기"
   ]
  },
  {
   "cell_type": "code",
   "execution_count": 2,
   "metadata": {},
   "outputs": [],
   "source": [
    "# 적당한 값을 넣지 않으면 오류가 납니다\n",
    "es = Elasticsearch()\n",
    "es_index = 'test'\n",
    "es_type = 'test'"
   ]
  },
  {
   "cell_type": "markdown",
   "metadata": {},
   "source": [
    "<a name='es_load'></a>\n",
    "#### 엘라스틱서치에서 데이터 조회하기"
   ]
  },
  {
   "cell_type": "code",
   "execution_count": 3,
   "metadata": {},
   "outputs": [],
   "source": [
    "x = es.search(\n",
    "      index=es_index, \n",
    "      doc_type=es_type, \n",
    "      body={\n",
    "        '_source' : ['주문시간', '상품가격', '구매사이트', '고객나이'],\n",
    "        'query' : {\n",
    "            'match_all' : {}\n",
    "        },\n",
    "        'size' : 50\n",
    "      }\n",
    ")"
   ]
  },
  {
   "cell_type": "markdown",
   "metadata": {},
   "source": [
    "<a name='df'></a>\n",
    "#### 조회한 데이터를 테이블 형태로 만들기"
   ]
  },
  {
   "cell_type": "code",
   "execution_count": 4,
   "metadata": {
    "scrolled": false
   },
   "outputs": [
    {
     "data": {
      "text/html": [
       "<div>\n",
       "<style scoped>\n",
       "    .dataframe tbody tr th:only-of-type {\n",
       "        vertical-align: middle;\n",
       "    }\n",
       "\n",
       "    .dataframe tbody tr th {\n",
       "        vertical-align: top;\n",
       "    }\n",
       "\n",
       "    .dataframe thead th {\n",
       "        text-align: right;\n",
       "    }\n",
       "</style>\n",
       "<table border=\"1\" class=\"dataframe\">\n",
       "  <thead>\n",
       "    <tr style=\"text-align: right;\">\n",
       "      <th></th>\n",
       "      <th>고객나이</th>\n",
       "      <th>구매사이트</th>\n",
       "      <th>상품가격</th>\n",
       "      <th>주문시간</th>\n",
       "    </tr>\n",
       "  </thead>\n",
       "  <tbody>\n",
       "    <tr>\n",
       "      <th>0</th>\n",
       "      <td>36</td>\n",
       "      <td>g마켓</td>\n",
       "      <td>6000</td>\n",
       "      <td>2017-11-04T04:39:24</td>\n",
       "    </tr>\n",
       "    <tr>\n",
       "      <th>1</th>\n",
       "      <td>28</td>\n",
       "      <td>옥션</td>\n",
       "      <td>16000</td>\n",
       "      <td>2017-11-07T02:27:49</td>\n",
       "    </tr>\n",
       "    <tr>\n",
       "      <th>2</th>\n",
       "      <td>45</td>\n",
       "      <td>11번가</td>\n",
       "      <td>13000</td>\n",
       "      <td>2017-11-01T21:10:05</td>\n",
       "    </tr>\n",
       "    <tr>\n",
       "      <th>3</th>\n",
       "      <td>40</td>\n",
       "      <td>쿠팡</td>\n",
       "      <td>25000</td>\n",
       "      <td>2017-11-12T11:30:19</td>\n",
       "    </tr>\n",
       "    <tr>\n",
       "      <th>4</th>\n",
       "      <td>40</td>\n",
       "      <td>11번가</td>\n",
       "      <td>10000</td>\n",
       "      <td>2017-11-12T18:11:58</td>\n",
       "    </tr>\n",
       "    <tr>\n",
       "      <th>5</th>\n",
       "      <td>38</td>\n",
       "      <td>11번가</td>\n",
       "      <td>25000</td>\n",
       "      <td>2017-11-08T22:29:44</td>\n",
       "    </tr>\n",
       "    <tr>\n",
       "      <th>6</th>\n",
       "      <td>45</td>\n",
       "      <td>위메프</td>\n",
       "      <td>13000</td>\n",
       "      <td>2017-11-07T01:22:52</td>\n",
       "    </tr>\n",
       "    <tr>\n",
       "      <th>7</th>\n",
       "      <td>20</td>\n",
       "      <td>위메프</td>\n",
       "      <td>15000</td>\n",
       "      <td>2017-11-11T06:25:42</td>\n",
       "    </tr>\n",
       "    <tr>\n",
       "      <th>8</th>\n",
       "      <td>34</td>\n",
       "      <td>g마켓</td>\n",
       "      <td>9000</td>\n",
       "      <td>2017-11-09T01:14:04</td>\n",
       "    </tr>\n",
       "    <tr>\n",
       "      <th>9</th>\n",
       "      <td>33</td>\n",
       "      <td>g마켓</td>\n",
       "      <td>5000</td>\n",
       "      <td>2017-11-02T20:24:25</td>\n",
       "    </tr>\n",
       "    <tr>\n",
       "      <th>10</th>\n",
       "      <td>37</td>\n",
       "      <td>쿠팡</td>\n",
       "      <td>7000</td>\n",
       "      <td>2017-11-12T08:06:28</td>\n",
       "    </tr>\n",
       "    <tr>\n",
       "      <th>11</th>\n",
       "      <td>40</td>\n",
       "      <td>g마켓</td>\n",
       "      <td>10000</td>\n",
       "      <td>2017-11-02T00:13:23</td>\n",
       "    </tr>\n",
       "    <tr>\n",
       "      <th>12</th>\n",
       "      <td>42</td>\n",
       "      <td>11번가</td>\n",
       "      <td>29000</td>\n",
       "      <td>2017-11-08T03:37:37</td>\n",
       "    </tr>\n",
       "    <tr>\n",
       "      <th>13</th>\n",
       "      <td>42</td>\n",
       "      <td>11번가</td>\n",
       "      <td>19000</td>\n",
       "      <td>2017-11-02T09:53:32</td>\n",
       "    </tr>\n",
       "    <tr>\n",
       "      <th>14</th>\n",
       "      <td>37</td>\n",
       "      <td>옥션</td>\n",
       "      <td>5000</td>\n",
       "      <td>2017-11-04T03:14:45</td>\n",
       "    </tr>\n",
       "    <tr>\n",
       "      <th>15</th>\n",
       "      <td>22</td>\n",
       "      <td>쿠팡</td>\n",
       "      <td>23000</td>\n",
       "      <td>2017-11-11T21:30:37</td>\n",
       "    </tr>\n",
       "    <tr>\n",
       "      <th>16</th>\n",
       "      <td>31</td>\n",
       "      <td>옥션</td>\n",
       "      <td>25000</td>\n",
       "      <td>2017-11-03T20:26:41</td>\n",
       "    </tr>\n",
       "    <tr>\n",
       "      <th>17</th>\n",
       "      <td>23</td>\n",
       "      <td>옥션</td>\n",
       "      <td>14000</td>\n",
       "      <td>2017-11-07T08:47:55</td>\n",
       "    </tr>\n",
       "    <tr>\n",
       "      <th>18</th>\n",
       "      <td>21</td>\n",
       "      <td>g마켓</td>\n",
       "      <td>13000</td>\n",
       "      <td>2017-11-08T06:41:12</td>\n",
       "    </tr>\n",
       "    <tr>\n",
       "      <th>19</th>\n",
       "      <td>32</td>\n",
       "      <td>11번가</td>\n",
       "      <td>11000</td>\n",
       "      <td>2017-11-01T16:54:20</td>\n",
       "    </tr>\n",
       "    <tr>\n",
       "      <th>20</th>\n",
       "      <td>42</td>\n",
       "      <td>11번가</td>\n",
       "      <td>23000</td>\n",
       "      <td>2017-11-11T15:23:33</td>\n",
       "    </tr>\n",
       "    <tr>\n",
       "      <th>21</th>\n",
       "      <td>44</td>\n",
       "      <td>11번가</td>\n",
       "      <td>18000</td>\n",
       "      <td>2017-11-12T09:28:14</td>\n",
       "    </tr>\n",
       "    <tr>\n",
       "      <th>22</th>\n",
       "      <td>43</td>\n",
       "      <td>쿠팡</td>\n",
       "      <td>20000</td>\n",
       "      <td>2017-11-03T02:51:32</td>\n",
       "    </tr>\n",
       "    <tr>\n",
       "      <th>23</th>\n",
       "      <td>32</td>\n",
       "      <td>위메프</td>\n",
       "      <td>22000</td>\n",
       "      <td>2017-11-02T03:44:43</td>\n",
       "    </tr>\n",
       "    <tr>\n",
       "      <th>24</th>\n",
       "      <td>31</td>\n",
       "      <td>11번가</td>\n",
       "      <td>9000</td>\n",
       "      <td>2017-11-09T10:13:11</td>\n",
       "    </tr>\n",
       "    <tr>\n",
       "      <th>25</th>\n",
       "      <td>19</td>\n",
       "      <td>g마켓</td>\n",
       "      <td>19000</td>\n",
       "      <td>2017-11-07T05:54:52</td>\n",
       "    </tr>\n",
       "    <tr>\n",
       "      <th>26</th>\n",
       "      <td>42</td>\n",
       "      <td>g마켓</td>\n",
       "      <td>23000</td>\n",
       "      <td>2017-11-09T17:34:23</td>\n",
       "    </tr>\n",
       "    <tr>\n",
       "      <th>27</th>\n",
       "      <td>44</td>\n",
       "      <td>위메프</td>\n",
       "      <td>9000</td>\n",
       "      <td>2017-11-08T05:48:20</td>\n",
       "    </tr>\n",
       "    <tr>\n",
       "      <th>28</th>\n",
       "      <td>25</td>\n",
       "      <td>g마켓</td>\n",
       "      <td>29000</td>\n",
       "      <td>2017-11-09T15:32:17</td>\n",
       "    </tr>\n",
       "    <tr>\n",
       "      <th>29</th>\n",
       "      <td>45</td>\n",
       "      <td>티몬</td>\n",
       "      <td>29000</td>\n",
       "      <td>2017-11-07T10:55:29</td>\n",
       "    </tr>\n",
       "    <tr>\n",
       "      <th>30</th>\n",
       "      <td>25</td>\n",
       "      <td>g마켓</td>\n",
       "      <td>18000</td>\n",
       "      <td>2017-11-01T21:28:28</td>\n",
       "    </tr>\n",
       "    <tr>\n",
       "      <th>31</th>\n",
       "      <td>21</td>\n",
       "      <td>위메프</td>\n",
       "      <td>28000</td>\n",
       "      <td>2017-11-10T03:05:40</td>\n",
       "    </tr>\n",
       "    <tr>\n",
       "      <th>32</th>\n",
       "      <td>40</td>\n",
       "      <td>11번가</td>\n",
       "      <td>20000</td>\n",
       "      <td>2017-11-01T23:49:27</td>\n",
       "    </tr>\n",
       "    <tr>\n",
       "      <th>33</th>\n",
       "      <td>41</td>\n",
       "      <td>11번가</td>\n",
       "      <td>14000</td>\n",
       "      <td>2017-11-01T11:07:43</td>\n",
       "    </tr>\n",
       "    <tr>\n",
       "      <th>34</th>\n",
       "      <td>29</td>\n",
       "      <td>11번가</td>\n",
       "      <td>23000</td>\n",
       "      <td>2017-11-09T02:28:50</td>\n",
       "    </tr>\n",
       "    <tr>\n",
       "      <th>35</th>\n",
       "      <td>21</td>\n",
       "      <td>옥션</td>\n",
       "      <td>28000</td>\n",
       "      <td>2017-11-12T19:42:22</td>\n",
       "    </tr>\n",
       "    <tr>\n",
       "      <th>36</th>\n",
       "      <td>26</td>\n",
       "      <td>g마켓</td>\n",
       "      <td>6000</td>\n",
       "      <td>2017-11-06T04:49:56</td>\n",
       "    </tr>\n",
       "    <tr>\n",
       "      <th>37</th>\n",
       "      <td>29</td>\n",
       "      <td>g마켓</td>\n",
       "      <td>19000</td>\n",
       "      <td>2017-11-10T14:28:39</td>\n",
       "    </tr>\n",
       "    <tr>\n",
       "      <th>38</th>\n",
       "      <td>36</td>\n",
       "      <td>티몬</td>\n",
       "      <td>24000</td>\n",
       "      <td>2017-11-06T02:16:54</td>\n",
       "    </tr>\n",
       "    <tr>\n",
       "      <th>39</th>\n",
       "      <td>24</td>\n",
       "      <td>g마켓</td>\n",
       "      <td>5000</td>\n",
       "      <td>2017-11-06T14:55:48</td>\n",
       "    </tr>\n",
       "    <tr>\n",
       "      <th>40</th>\n",
       "      <td>37</td>\n",
       "      <td>g마켓</td>\n",
       "      <td>11000</td>\n",
       "      <td>2017-11-05T04:29:37</td>\n",
       "    </tr>\n",
       "    <tr>\n",
       "      <th>41</th>\n",
       "      <td>22</td>\n",
       "      <td>쿠팡</td>\n",
       "      <td>6000</td>\n",
       "      <td>2017-11-07T12:18:43</td>\n",
       "    </tr>\n",
       "    <tr>\n",
       "      <th>42</th>\n",
       "      <td>39</td>\n",
       "      <td>11번가</td>\n",
       "      <td>6000</td>\n",
       "      <td>2017-11-03T00:41:46</td>\n",
       "    </tr>\n",
       "    <tr>\n",
       "      <th>43</th>\n",
       "      <td>40</td>\n",
       "      <td>11번가</td>\n",
       "      <td>21000</td>\n",
       "      <td>2017-11-12T00:25:03</td>\n",
       "    </tr>\n",
       "    <tr>\n",
       "      <th>44</th>\n",
       "      <td>21</td>\n",
       "      <td>g마켓</td>\n",
       "      <td>14000</td>\n",
       "      <td>2017-11-12T11:01:11</td>\n",
       "    </tr>\n",
       "    <tr>\n",
       "      <th>45</th>\n",
       "      <td>26</td>\n",
       "      <td>쿠팡</td>\n",
       "      <td>9000</td>\n",
       "      <td>2017-11-08T02:18:30</td>\n",
       "    </tr>\n",
       "    <tr>\n",
       "      <th>46</th>\n",
       "      <td>19</td>\n",
       "      <td>11번가</td>\n",
       "      <td>7000</td>\n",
       "      <td>2017-11-04T16:53:23</td>\n",
       "    </tr>\n",
       "    <tr>\n",
       "      <th>47</th>\n",
       "      <td>38</td>\n",
       "      <td>g마켓</td>\n",
       "      <td>19000</td>\n",
       "      <td>2017-11-09T03:34:05</td>\n",
       "    </tr>\n",
       "    <tr>\n",
       "      <th>48</th>\n",
       "      <td>44</td>\n",
       "      <td>옥션</td>\n",
       "      <td>14000</td>\n",
       "      <td>2017-11-10T14:42:32</td>\n",
       "    </tr>\n",
       "    <tr>\n",
       "      <th>49</th>\n",
       "      <td>39</td>\n",
       "      <td>티몬</td>\n",
       "      <td>15000</td>\n",
       "      <td>2017-11-09T16:30:05</td>\n",
       "    </tr>\n",
       "  </tbody>\n",
       "</table>\n",
       "</div>"
      ],
      "text/plain": [
       "    고객나이 구매사이트   상품가격                 주문시간\n",
       "0     36   g마켓   6000  2017-11-04T04:39:24\n",
       "1     28    옥션  16000  2017-11-07T02:27:49\n",
       "2     45  11번가  13000  2017-11-01T21:10:05\n",
       "3     40    쿠팡  25000  2017-11-12T11:30:19\n",
       "4     40  11번가  10000  2017-11-12T18:11:58\n",
       "5     38  11번가  25000  2017-11-08T22:29:44\n",
       "6     45   위메프  13000  2017-11-07T01:22:52\n",
       "7     20   위메프  15000  2017-11-11T06:25:42\n",
       "8     34   g마켓   9000  2017-11-09T01:14:04\n",
       "9     33   g마켓   5000  2017-11-02T20:24:25\n",
       "10    37    쿠팡   7000  2017-11-12T08:06:28\n",
       "11    40   g마켓  10000  2017-11-02T00:13:23\n",
       "12    42  11번가  29000  2017-11-08T03:37:37\n",
       "13    42  11번가  19000  2017-11-02T09:53:32\n",
       "14    37    옥션   5000  2017-11-04T03:14:45\n",
       "15    22    쿠팡  23000  2017-11-11T21:30:37\n",
       "16    31    옥션  25000  2017-11-03T20:26:41\n",
       "17    23    옥션  14000  2017-11-07T08:47:55\n",
       "18    21   g마켓  13000  2017-11-08T06:41:12\n",
       "19    32  11번가  11000  2017-11-01T16:54:20\n",
       "20    42  11번가  23000  2017-11-11T15:23:33\n",
       "21    44  11번가  18000  2017-11-12T09:28:14\n",
       "22    43    쿠팡  20000  2017-11-03T02:51:32\n",
       "23    32   위메프  22000  2017-11-02T03:44:43\n",
       "24    31  11번가   9000  2017-11-09T10:13:11\n",
       "25    19   g마켓  19000  2017-11-07T05:54:52\n",
       "26    42   g마켓  23000  2017-11-09T17:34:23\n",
       "27    44   위메프   9000  2017-11-08T05:48:20\n",
       "28    25   g마켓  29000  2017-11-09T15:32:17\n",
       "29    45    티몬  29000  2017-11-07T10:55:29\n",
       "30    25   g마켓  18000  2017-11-01T21:28:28\n",
       "31    21   위메프  28000  2017-11-10T03:05:40\n",
       "32    40  11번가  20000  2017-11-01T23:49:27\n",
       "33    41  11번가  14000  2017-11-01T11:07:43\n",
       "34    29  11번가  23000  2017-11-09T02:28:50\n",
       "35    21    옥션  28000  2017-11-12T19:42:22\n",
       "36    26   g마켓   6000  2017-11-06T04:49:56\n",
       "37    29   g마켓  19000  2017-11-10T14:28:39\n",
       "38    36    티몬  24000  2017-11-06T02:16:54\n",
       "39    24   g마켓   5000  2017-11-06T14:55:48\n",
       "40    37   g마켓  11000  2017-11-05T04:29:37\n",
       "41    22    쿠팡   6000  2017-11-07T12:18:43\n",
       "42    39  11번가   6000  2017-11-03T00:41:46\n",
       "43    40  11번가  21000  2017-11-12T00:25:03\n",
       "44    21   g마켓  14000  2017-11-12T11:01:11\n",
       "45    26    쿠팡   9000  2017-11-08T02:18:30\n",
       "46    19  11번가   7000  2017-11-04T16:53:23\n",
       "47    38   g마켓  19000  2017-11-09T03:34:05\n",
       "48    44    옥션  14000  2017-11-10T14:42:32\n",
       "49    39    티몬  15000  2017-11-09T16:30:05"
      ]
     },
     "execution_count": 4,
     "metadata": {},
     "output_type": "execute_result"
    }
   ],
   "source": [
    "df = pd.DataFrame([x['hits']['hits'][idx]['_source'] for idx, _ in enumerate(x['hits']['hits'])])\n",
    "df"
   ]
  },
  {
   "cell_type": "markdown",
   "metadata": {},
   "source": [
    "### Metric Aggregation"
   ]
  },
  {
   "cell_type": "markdown",
   "metadata": {},
   "source": [
    "<a name='count'></a>\n",
    "#### Value Count Aggregation \n",
    ": Documents의 총 개수를 반환한다"
   ]
  },
  {
   "cell_type": "code",
   "execution_count": 5,
   "metadata": {
    "scrolled": false
   },
   "outputs": [
    {
     "data": {
      "text/plain": [
       "50"
      ]
     },
     "execution_count": 5,
     "metadata": {},
     "output_type": "execute_result"
    }
   ],
   "source": [
    "len(df)"
   ]
  },
  {
   "cell_type": "markdown",
   "metadata": {},
   "source": [
    "<a name='avg'></a>\n",
    "#### Avg Aggregation\n",
    ": 특정 Number Field의 평균값을 반환한다"
   ]
  },
  {
   "cell_type": "code",
   "execution_count": 6,
   "metadata": {},
   "outputs": [
    {
     "data": {
      "text/plain": [
       "16020"
      ]
     },
     "execution_count": 6,
     "metadata": {},
     "output_type": "execute_result"
    }
   ],
   "source": [
    "# 상품가격\n",
    "int(df['상품가격'].mean())"
   ]
  },
  {
   "cell_type": "markdown",
   "metadata": {},
   "source": [
    "<a name='sum'></a>\n",
    "#### Sum Aggregation \n",
    ": 특정 Number Field의 합을 반환한다"
   ]
  },
  {
   "cell_type": "code",
   "execution_count": 7,
   "metadata": {},
   "outputs": [
    {
     "data": {
      "text/plain": [
       "801000"
      ]
     },
     "execution_count": 7,
     "metadata": {},
     "output_type": "execute_result"
    }
   ],
   "source": [
    "# 상품가격\n",
    "df['상품가격'].sum()"
   ]
  },
  {
   "cell_type": "markdown",
   "metadata": {},
   "source": [
    "<a name='min'></a>\n",
    "#### Min Aggregation \n",
    ": 특정 Number Field의 최소값을 반환한다"
   ]
  },
  {
   "cell_type": "code",
   "execution_count": 8,
   "metadata": {},
   "outputs": [
    {
     "data": {
      "text/plain": [
       "5000"
      ]
     },
     "execution_count": 8,
     "metadata": {},
     "output_type": "execute_result"
    }
   ],
   "source": [
    "# 상품가격\n",
    "df['상품가격'].min()"
   ]
  },
  {
   "cell_type": "markdown",
   "metadata": {},
   "source": [
    "<a name='max'></a>\n",
    "#### Max Aggregation \n",
    ": 특정 Number Field의 최대값을 반환한다"
   ]
  },
  {
   "cell_type": "code",
   "execution_count": 9,
   "metadata": {},
   "outputs": [
    {
     "data": {
      "text/plain": [
       "29000"
      ]
     },
     "execution_count": 9,
     "metadata": {},
     "output_type": "execute_result"
    }
   ],
   "source": [
    "# 상품가격\n",
    "df['상품가격'].max()"
   ]
  },
  {
   "cell_type": "markdown",
   "metadata": {},
   "source": [
    "<a name='extended'></a>\n",
    "#### Extended Stats Aggregation \n",
    ": 특정 Number Field의 기본 통계값을 반환한다"
   ]
  },
  {
   "cell_type": "code",
   "execution_count": 10,
   "metadata": {},
   "outputs": [
    {
     "data": {
      "text/plain": [
       "7454.5972666645957"
      ]
     },
     "execution_count": 10,
     "metadata": {},
     "output_type": "execute_result"
    }
   ],
   "source": [
    "# 상품가격\n",
    "df['상품가격'].std()"
   ]
  },
  {
   "cell_type": "markdown",
   "metadata": {},
   "source": [
    "<a name='cardinal'></a>\n",
    "#### Cardinality Aggregation \n",
    ": 특정 Number Field의 고유한 Value의 개수를 반환한다"
   ]
  },
  {
   "cell_type": "code",
   "execution_count": 11,
   "metadata": {},
   "outputs": [
    {
     "name": "stdout",
     "output_type": "stream",
     "text": [
      "총 6곳에서 구매했으며 사이트는 각각 ['g마켓' '옥션' '11번가' '쿠팡' '위메프' '티몬']입니다.\n"
     ]
    }
   ],
   "source": [
    "# 구매사이트\n",
    "number = len(df['구매사이트'].unique())\n",
    "items = df['구매사이트'].unique()\n",
    "\n",
    "print('총 {}곳에서 구매했으며 사이트는 각각 {}입니다.'.format(number, items))"
   ]
  },
  {
   "cell_type": "markdown",
   "metadata": {},
   "source": [
    "<a name='percentiles'></a>\n",
    "#### Percentiles Aggregation \n",
    ": 특정 Number Field의 특정 백분위의 백분위수를 반환한"
   ]
  },
  {
   "cell_type": "code",
   "execution_count": 12,
   "metadata": {},
   "outputs": [
    {
     "data": {
      "text/html": [
       "<div>\n",
       "<style scoped>\n",
       "    .dataframe tbody tr th:only-of-type {\n",
       "        vertical-align: middle;\n",
       "    }\n",
       "\n",
       "    .dataframe tbody tr th {\n",
       "        vertical-align: top;\n",
       "    }\n",
       "\n",
       "    .dataframe thead th {\n",
       "        text-align: right;\n",
       "    }\n",
       "</style>\n",
       "<table border=\"1\" class=\"dataframe\">\n",
       "  <thead>\n",
       "    <tr style=\"text-align: right;\">\n",
       "      <th></th>\n",
       "      <th>백분위</th>\n",
       "      <th>백분위수</th>\n",
       "    </tr>\n",
       "  </thead>\n",
       "  <tbody>\n",
       "    <tr>\n",
       "      <th>0</th>\n",
       "      <td>0.01</td>\n",
       "      <td>5000.0</td>\n",
       "    </tr>\n",
       "    <tr>\n",
       "      <th>1</th>\n",
       "      <td>0.05</td>\n",
       "      <td>5450.0</td>\n",
       "    </tr>\n",
       "    <tr>\n",
       "      <th>2</th>\n",
       "      <td>0.25</td>\n",
       "      <td>9250.0</td>\n",
       "    </tr>\n",
       "    <tr>\n",
       "      <th>3</th>\n",
       "      <td>0.50</td>\n",
       "      <td>15000.0</td>\n",
       "    </tr>\n",
       "    <tr>\n",
       "      <th>4</th>\n",
       "      <td>0.75</td>\n",
       "      <td>22750.0</td>\n",
       "    </tr>\n",
       "    <tr>\n",
       "      <th>5</th>\n",
       "      <td>0.95</td>\n",
       "      <td>28550.0</td>\n",
       "    </tr>\n",
       "    <tr>\n",
       "      <th>6</th>\n",
       "      <td>0.99</td>\n",
       "      <td>29000.0</td>\n",
       "    </tr>\n",
       "  </tbody>\n",
       "</table>\n",
       "</div>"
      ],
      "text/plain": [
       "    백분위     백분위수\n",
       "0  0.01   5000.0\n",
       "1  0.05   5450.0\n",
       "2  0.25   9250.0\n",
       "3  0.50  15000.0\n",
       "4  0.75  22750.0\n",
       "5  0.95  28550.0\n",
       "6  0.99  29000.0"
      ]
     },
     "execution_count": 12,
     "metadata": {},
     "output_type": "execute_result"
    }
   ],
   "source": [
    "# 상품가격\n",
    "df_percentile = df['상품가격'].quantile([.01, .05, .25, .5, .75, .95, .99])\n",
    "df_percentile = pd.DataFrame({'백분위' : df_percentile.index, '백분위수' : df_percentile.values.ravel()})\n",
    "df_percentile"
   ]
  },
  {
   "cell_type": "markdown",
   "metadata": {},
   "source": [
    "<a name='percentile ranks'></a>\n",
    "#### Percentile Ranks Aggregation \n",
    ": 특정 Number Field의 특정 Value의 백분위를 반환한"
   ]
  },
  {
   "cell_type": "code",
   "execution_count": 13,
   "metadata": {
    "scrolled": false
   },
   "outputs": [
    {
     "data": {
      "text/html": [
       "<div>\n",
       "<style scoped>\n",
       "    .dataframe tbody tr th:only-of-type {\n",
       "        vertical-align: middle;\n",
       "    }\n",
       "\n",
       "    .dataframe tbody tr th {\n",
       "        vertical-align: top;\n",
       "    }\n",
       "\n",
       "    .dataframe thead th {\n",
       "        text-align: right;\n",
       "    }\n",
       "</style>\n",
       "<table border=\"1\" class=\"dataframe\">\n",
       "  <thead>\n",
       "    <tr style=\"text-align: right;\">\n",
       "      <th></th>\n",
       "      <th>상품가격</th>\n",
       "      <th>백분위</th>\n",
       "    </tr>\n",
       "  </thead>\n",
       "  <tbody>\n",
       "    <tr>\n",
       "      <th>1</th>\n",
       "      <td>15000</td>\n",
       "      <td>0.51</td>\n",
       "    </tr>\n",
       "  </tbody>\n",
       "</table>\n",
       "</div>"
      ],
      "text/plain": [
       "    상품가격   백분위\n",
       "1  15000  0.51"
      ]
     },
     "execution_count": 13,
     "metadata": {},
     "output_type": "execute_result"
    }
   ],
   "source": [
    "df['백분위'] = df['상품가격'].rank(pct=True)\n",
    "df_percentile_ranks = df[df['상품가격']==15000]['백분위']\n",
    "df_percentile_ranks = pd.DataFrame({'상품가격' : [15000] * len(df_percentile_ranks), '백분위' : df_percentile_ranks.values.ravel()})\n",
    "df_percentile_ranks[['상품가격', '백분위']].iloc[1:2, 0:2]"
   ]
  },
  {
   "cell_type": "markdown",
   "metadata": {},
   "source": [
    "<a name='top hits'></a>\n",
    "#### Top Hits Aggregation \n",
    ": 조건을 만족하는 Document의 특정 Field의 Agg 반환"
   ]
  },
  {
   "cell_type": "markdown",
   "metadata": {},
   "source": [
    "##### String\n",
    "* 가장 비싼 상품 3개의\n",
    "* 구매 사이트를 각각\n",
    "* 보여주세요"
   ]
  },
  {
   "cell_type": "code",
   "execution_count": 14,
   "metadata": {},
   "outputs": [
    {
     "data": {
      "text/html": [
       "<div>\n",
       "<style scoped>\n",
       "    .dataframe tbody tr th:only-of-type {\n",
       "        vertical-align: middle;\n",
       "    }\n",
       "\n",
       "    .dataframe tbody tr th {\n",
       "        vertical-align: top;\n",
       "    }\n",
       "\n",
       "    .dataframe thead th {\n",
       "        text-align: right;\n",
       "    }\n",
       "</style>\n",
       "<table border=\"1\" class=\"dataframe\">\n",
       "  <thead>\n",
       "    <tr style=\"text-align: right;\">\n",
       "      <th></th>\n",
       "      <th>고객나이</th>\n",
       "      <th>구매사이트</th>\n",
       "      <th>상품가격</th>\n",
       "      <th>주문시간</th>\n",
       "      <th>백분위</th>\n",
       "    </tr>\n",
       "  </thead>\n",
       "  <tbody>\n",
       "    <tr>\n",
       "      <th>12</th>\n",
       "      <td>42</td>\n",
       "      <td>11번가</td>\n",
       "      <td>29000</td>\n",
       "      <td>2017-11-08T03:37:37</td>\n",
       "      <td>0.98</td>\n",
       "    </tr>\n",
       "    <tr>\n",
       "      <th>28</th>\n",
       "      <td>25</td>\n",
       "      <td>g마켓</td>\n",
       "      <td>29000</td>\n",
       "      <td>2017-11-09T15:32:17</td>\n",
       "      <td>0.98</td>\n",
       "    </tr>\n",
       "    <tr>\n",
       "      <th>29</th>\n",
       "      <td>45</td>\n",
       "      <td>티몬</td>\n",
       "      <td>29000</td>\n",
       "      <td>2017-11-07T10:55:29</td>\n",
       "      <td>0.98</td>\n",
       "    </tr>\n",
       "  </tbody>\n",
       "</table>\n",
       "</div>"
      ],
      "text/plain": [
       "    고객나이 구매사이트   상품가격                 주문시간   백분위\n",
       "12    42  11번가  29000  2017-11-08T03:37:37  0.98\n",
       "28    25   g마켓  29000  2017-11-09T15:32:17  0.98\n",
       "29    45    티몬  29000  2017-11-07T10:55:29  0.98"
      ]
     },
     "execution_count": 14,
     "metadata": {},
     "output_type": "execute_result"
    }
   ],
   "source": [
    "# 가장 비싼 상품 3개의...\n",
    "three_most_expensive = df.sort_values(by='상품가격', ascending=False)[:3]\n",
    "three_most_expensive"
   ]
  },
  {
   "cell_type": "code",
   "execution_count": 15,
   "metadata": {},
   "outputs": [
    {
     "data": {
      "text/html": [
       "<div>\n",
       "<style scoped>\n",
       "    .dataframe tbody tr th:only-of-type {\n",
       "        vertical-align: middle;\n",
       "    }\n",
       "\n",
       "    .dataframe tbody tr th {\n",
       "        vertical-align: top;\n",
       "    }\n",
       "\n",
       "    .dataframe thead th {\n",
       "        text-align: right;\n",
       "    }\n",
       "</style>\n",
       "<table border=\"1\" class=\"dataframe\">\n",
       "  <thead>\n",
       "    <tr style=\"text-align: right;\">\n",
       "      <th></th>\n",
       "      <th>Top 3</th>\n",
       "    </tr>\n",
       "  </thead>\n",
       "  <tbody>\n",
       "    <tr>\n",
       "      <th>0</th>\n",
       "      <td>[11번가, g마켓, 티몬]</td>\n",
       "    </tr>\n",
       "  </tbody>\n",
       "</table>\n",
       "</div>"
      ],
      "text/plain": [
       "             Top 3\n",
       "0  [11번가, g마켓, 티몬]"
      ]
     },
     "execution_count": 15,
     "metadata": {},
     "output_type": "execute_result"
    }
   ],
   "source": [
    "# ....구매 사이트를 각각 보여주세요\n",
    "df_top_hits = pd.DataFrame({'Top 3' : [three_most_expensive['구매사이트'].values.ravel()]})\n",
    "df_top_hits"
   ]
  },
  {
   "cell_type": "markdown",
   "metadata": {},
   "source": [
    "##### Number\n",
    "* 나이가 가장 적은 3명의\n",
    "* 상품값의\n",
    "* 평균을 보여주세요 "
   ]
  },
  {
   "cell_type": "code",
   "execution_count": 16,
   "metadata": {},
   "outputs": [
    {
     "data": {
      "text/html": [
       "<div>\n",
       "<style scoped>\n",
       "    .dataframe tbody tr th:only-of-type {\n",
       "        vertical-align: middle;\n",
       "    }\n",
       "\n",
       "    .dataframe tbody tr th {\n",
       "        vertical-align: top;\n",
       "    }\n",
       "\n",
       "    .dataframe thead th {\n",
       "        text-align: right;\n",
       "    }\n",
       "</style>\n",
       "<table border=\"1\" class=\"dataframe\">\n",
       "  <thead>\n",
       "    <tr style=\"text-align: right;\">\n",
       "      <th></th>\n",
       "      <th>고객나이</th>\n",
       "      <th>구매사이트</th>\n",
       "      <th>상품가격</th>\n",
       "      <th>주문시간</th>\n",
       "      <th>백분위</th>\n",
       "    </tr>\n",
       "  </thead>\n",
       "  <tbody>\n",
       "    <tr>\n",
       "      <th>25</th>\n",
       "      <td>19</td>\n",
       "      <td>g마켓</td>\n",
       "      <td>19000</td>\n",
       "      <td>2017-11-07T05:54:52</td>\n",
       "      <td>0.63</td>\n",
       "    </tr>\n",
       "    <tr>\n",
       "      <th>46</th>\n",
       "      <td>19</td>\n",
       "      <td>11번가</td>\n",
       "      <td>7000</td>\n",
       "      <td>2017-11-04T16:53:23</td>\n",
       "      <td>0.17</td>\n",
       "    </tr>\n",
       "    <tr>\n",
       "      <th>7</th>\n",
       "      <td>20</td>\n",
       "      <td>위메프</td>\n",
       "      <td>15000</td>\n",
       "      <td>2017-11-11T06:25:42</td>\n",
       "      <td>0.51</td>\n",
       "    </tr>\n",
       "  </tbody>\n",
       "</table>\n",
       "</div>"
      ],
      "text/plain": [
       "    고객나이 구매사이트   상품가격                 주문시간   백분위\n",
       "25    19   g마켓  19000  2017-11-07T05:54:52  0.63\n",
       "46    19  11번가   7000  2017-11-04T16:53:23  0.17\n",
       "7     20   위메프  15000  2017-11-11T06:25:42  0.51"
      ]
     },
     "execution_count": 16,
     "metadata": {},
     "output_type": "execute_result"
    }
   ],
   "source": [
    "# 나이가 가장 어린 3명의...\n",
    "three_youngest_people = df.sort_values(by='고객나이', ascending=True)[:3]\n",
    "three_youngest_people"
   ]
  },
  {
   "cell_type": "code",
   "execution_count": 17,
   "metadata": {},
   "outputs": [
    {
     "data": {
      "text/html": [
       "<div>\n",
       "<style scoped>\n",
       "    .dataframe tbody tr th:only-of-type {\n",
       "        vertical-align: middle;\n",
       "    }\n",
       "\n",
       "    .dataframe tbody tr th {\n",
       "        vertical-align: top;\n",
       "    }\n",
       "\n",
       "    .dataframe thead th {\n",
       "        text-align: right;\n",
       "    }\n",
       "</style>\n",
       "<table border=\"1\" class=\"dataframe\">\n",
       "  <thead>\n",
       "    <tr style=\"text-align: right;\">\n",
       "      <th></th>\n",
       "      <th>상품가격</th>\n",
       "    </tr>\n",
       "  </thead>\n",
       "  <tbody>\n",
       "    <tr>\n",
       "      <th>25</th>\n",
       "      <td>19000</td>\n",
       "    </tr>\n",
       "    <tr>\n",
       "      <th>46</th>\n",
       "      <td>7000</td>\n",
       "    </tr>\n",
       "    <tr>\n",
       "      <th>7</th>\n",
       "      <td>15000</td>\n",
       "    </tr>\n",
       "  </tbody>\n",
       "</table>\n",
       "</div>"
      ],
      "text/plain": [
       "     상품가격\n",
       "25  19000\n",
       "46   7000\n",
       "7   15000"
      ]
     },
     "execution_count": 17,
     "metadata": {},
     "output_type": "execute_result"
    }
   ],
   "source": [
    "# ...상품값의...\n",
    "three_youngest_people[['상품가격']]"
   ]
  },
  {
   "cell_type": "code",
   "execution_count": 18,
   "metadata": {},
   "outputs": [
    {
     "data": {
      "text/plain": [
       "13666.666666666666"
      ]
     },
     "execution_count": 18,
     "metadata": {},
     "output_type": "execute_result"
    }
   ],
   "source": [
    "# 평균을 보여주세요\n",
    "three_youngest_people['상품가격'].mean()"
   ]
  }
 ],
 "metadata": {
  "kernelspec": {
   "display_name": "Python 3",
   "language": "python",
   "name": "python3"
  },
  "language_info": {
   "codemirror_mode": {
    "name": "ipython",
    "version": 3
   },
   "file_extension": ".py",
   "mimetype": "text/x-python",
   "name": "python",
   "nbconvert_exporter": "python",
   "pygments_lexer": "ipython3",
   "version": "3.6.1"
  },
  "latex_envs": {
   "LaTeX_envs_menu_present": true,
   "autocomplete": true,
   "bibliofile": "biblio.bib",
   "cite_by": "apalike",
   "current_citInitial": 1,
   "eqLabelWithNumbers": true,
   "eqNumInitial": 1,
   "hotkeys": {
    "equation": "Ctrl-E",
    "itemize": "Ctrl-I"
   },
   "labels_anchors": false,
   "latex_user_defs": false,
   "report_style_numbering": false,
   "user_envs_cfg": false
  },
  "toc": {
   "nav_menu": {},
   "number_sections": true,
   "sideBar": true,
   "skip_h1_title": false,
   "toc_cell": false,
   "toc_position": {
    "height": "721px",
    "left": "0px",
    "right": "1387.01px",
    "top": "158px",
    "width": "213px"
   },
   "toc_section_display": "block",
   "toc_window_display": true
  },
  "varInspector": {
   "cols": {
    "lenName": 16,
    "lenType": 16,
    "lenVar": "400"
   },
   "kernels_config": {
    "python": {
     "delete_cmd_postfix": "",
     "delete_cmd_prefix": "del ",
     "library": "var_list.py",
     "varRefreshCmd": "print(var_dic_list())"
    },
    "r": {
     "delete_cmd_postfix": ") ",
     "delete_cmd_prefix": "rm(",
     "library": "var_list.r",
     "varRefreshCmd": "cat(var_dic_list()) "
    }
   },
   "types_to_exclude": [
    "module",
    "function",
    "builtin_function_or_method",
    "instance",
    "_Feature"
   ],
   "window_display": false
  }
 },
 "nbformat": 4,
 "nbformat_minor": 2
}
